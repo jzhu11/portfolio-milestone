{
 "cells": [
  {
   "cell_type": "code",
   "execution_count": 1,
   "metadata": {},
   "outputs": [],
   "source": [
    "# import packages for analysis and modeling\n",
    "import pandas as pd  # data frame operations\n",
    "\n",
    "import numpy as np  # arrays and math functions\n",
    "from scipy.stats import uniform  # for training-and-test split\n",
    "import statsmodels.api as sm  # statistical models (including regression)\n",
    "import statsmodels.formula.api as smf  # R-like model specification\n",
    "import matplotlib.pyplot as plt  # 2D plotting\n",
    "import seaborn as sns\n",
    "import plotly as py\n",
    "import jellyfish"
   ]
  },
  {
   "cell_type": "code",
   "execution_count": 2,
   "metadata": {},
   "outputs": [],
   "source": [
    "import re"
   ]
  },
  {
   "cell_type": "code",
   "execution_count": 3,
   "metadata": {},
   "outputs": [],
   "source": [
    "#removes any non digit characters in a dataframe column\n",
    "def clean_int(df_name, col_name):\n",
    "    df_name[col_name] = df_name[col_name].str.replace(r'\\D', '')\n",
    "\n",
    "#converts the column type of a data frame\n",
    "def convert_col(df, col, type_name):\n",
    "    df[col] = df[col].astype(type_name)\n",
    "    \n",
    "#replace NA values with the median of each column to prevent outliers and blank data points\n",
    "def fill_na_med(df, col):\n",
    "    df[col] = df[col].fillna(df[col].median())\n",
    "\n",
    "def value_replace (df, col, cur_value, out_value):\n",
    "    df.loc[df[col] == cur_value, col] = out_value\n",
    "    \n",
    "def summary_NA (df):\n",
    "    print('-'*35)\n",
    "    x = df.isna().sum()\n",
    "    print (x)"
   ]
  },
  {
   "cell_type": "markdown",
   "metadata": {},
   "source": [
    "## Data Import and Initial Cleaning"
   ]
  },
  {
   "cell_type": "code",
   "execution_count": 4,
   "metadata": {},
   "outputs": [
    {
     "name": "stdout",
     "output_type": "stream",
     "text": [
      "<class 'pandas.core.frame.DataFrame'>\n",
      "                  School Conference     TotalPay\n",
      "0              Air Force   Mt. West       885000\n",
      "1                  Akron        MAC    $412,500 \n",
      "2                Alabama        SEC  $8,307,000 \n",
      "3  Alabama at Birmingham      C-USA    $900,000 \n",
      "4      Appalachian State   Sun Belt    $712,500 \n"
     ]
    }
   ],
   "source": [
    "coaches_df = pd.read_csv('Coaches9.csv')\n",
    "coaches_df = coaches_df.drop(columns = ['Coach','AssistantPay','SchoolPay','Bonus','BonusPaid','Buyout'])\n",
    "print(type(coaches_df))\n",
    "print(coaches_df.head())"
   ]
  },
  {
   "cell_type": "code",
   "execution_count": 5,
   "metadata": {},
   "outputs": [
    {
     "name": "stdout",
     "output_type": "stream",
     "text": [
      "       School Conference Capacity  Opened\n",
      "0    Michigan    Big Ten  107,601    1927\n",
      "1  Penn State    Big Ten  106,572    1960\n",
      "2  Ohio State    Big Ten  104,944    1922\n",
      "3   Texas A&M        SEC  102,733    1904\n",
      "4   Tennessee        SEC  102,521    1921\n"
     ]
    }
   ],
   "source": [
    "#Liberty University wasn't included in this data set (will probably drop from main automatically \n",
    "#when merging occurs)\n",
    "#https://www.collegegridirons.com/comparisons-by-capacity/\n",
    "\n",
    "stadium_df = pd.read_csv('Stadium_Size.csv', encoding='cp1252')\n",
    "stadium_df = stadium_df.drop(columns = 'Stadium')\n",
    "stadium_df = stadium_df.rename(columns = {'College' : 'School'})\n",
    "print(stadium_df.head())"
   ]
  },
  {
   "cell_type": "code",
   "execution_count": 6,
   "metadata": {},
   "outputs": [
    {
     "name": "stdout",
     "output_type": "stream",
     "text": [
      "          School  Win  Loss Conference  Win_Percentage\n",
      "0     Cincinnati   13     1        AAC        0.928571\n",
      "1        Houston   12     2        AAC        0.857143\n",
      "2            UCF    9     4        AAC        0.692308\n",
      "3  East Carolina    7     5        AAC        0.583333\n",
      "4          Tulsa    7     6        AAC        0.538462\n",
      "School             object\n",
      "Win                 int64\n",
      "Loss                int64\n",
      "Conference         object\n",
      "Win_Percentage    float64\n",
      "dtype: object\n"
     ]
    }
   ],
   "source": [
    "#https://www.ncaa.com/standings/football/fbs\n",
    "#updated as of Jan 27, 2022\n",
    "winloss_df = pd.read_csv('Win_Loss.csv')\n",
    "winloss_df = winloss_df.drop(columns = ['HOME', 'AWAY', 'PF','PA','STREAK','CW','CL'])\n",
    "winloss_df = winloss_df.rename(columns = {'College' : 'School', 'W': 'Win', 'L': 'Loss'})\n",
    "winloss_df['Win_Percentage'] = winloss_df['Win']/(winloss_df['Win'] + winloss_df['Loss'])\n",
    "print(winloss_df.head())\n",
    "print(winloss_df.dtypes)"
   ]
  },
  {
   "cell_type": "code",
   "execution_count": 7,
   "metadata": {},
   "outputs": [
    {
     "name": "stdout",
     "output_type": "stream",
     "text": [
      "                         School                   Conference  GSR   FGR\n",
      "0  Abilene Christian University         Southland Conference   75  51.0\n",
      "1           University of Akron      Mid-American Conference   79  76.0\n",
      "2        Alabama A&M University  Southwestern Athletic Conf.   62  54.0\n",
      "3      Alabama State University  Southwestern Athletic Conf.   71  42.0\n",
      "4         University of Alabama      Southeastern Conference   86  65.0\n",
      "School         object\n",
      "Conference     object\n",
      "GSR             int64\n",
      "FGR           float64\n",
      "dtype: object\n"
     ]
    }
   ],
   "source": [
    "grad_df = pd.read_csv('Grad_Rate.csv')\n",
    "grad_df = grad_df.drop(columns = ['Cohort Year', 'Sport', 'State'])\n",
    "print(grad_df.head())\n",
    "print(grad_df.dtypes)"
   ]
  },
  {
   "cell_type": "code",
   "execution_count": 8,
   "metadata": {},
   "outputs": [],
   "source": [
    "#cleaning columns that contain numbers free of any non-digit characters\n",
    "clean_int(coaches_df,'TotalPay')\n",
    "clean_int(stadium_df,'Capacity')"
   ]
  },
  {
   "cell_type": "code",
   "execution_count": 9,
   "metadata": {},
   "outputs": [],
   "source": [
    "#replacing any empty values with NaN\n",
    "coaches_df = coaches_df.replace('', np.nan)\n",
    "stadium_df = stadium_df.replace('',np.nan)\n",
    "winloss_df = winloss_df.replace('',np.nan)\n",
    "grad_df = grad_df.replace('',np.nan)"
   ]
  },
  {
   "cell_type": "code",
   "execution_count": 10,
   "metadata": {},
   "outputs": [
    {
     "name": "stdout",
     "output_type": "stream",
     "text": [
      "Obtaining the number of NA values in each dataframe\n",
      "-----------------------------------\n",
      "School        0\n",
      "Conference    0\n",
      "TotalPay      4\n",
      "dtype: int64\n",
      "-----------------------------------\n",
      "School        0\n",
      "Conference    0\n",
      "Capacity      0\n",
      "Opened        0\n",
      "dtype: int64\n",
      "-----------------------------------\n",
      "School            0\n",
      "Win               0\n",
      "Loss              0\n",
      "Conference        0\n",
      "Win_Percentage    0\n",
      "dtype: int64\n",
      "-----------------------------------\n",
      "School         0\n",
      "Conference     0\n",
      "GSR            0\n",
      "FGR           17\n",
      "dtype: int64\n"
     ]
    }
   ],
   "source": [
    "print('Obtaining the number of NA values in each dataframe')\n",
    "summary_NA(coaches_df)\n",
    "summary_NA(stadium_df)\n",
    "summary_NA(winloss_df)\n",
    "summary_NA(grad_df)"
   ]
  },
  {
   "cell_type": "code",
   "execution_count": 11,
   "metadata": {},
   "outputs": [
    {
     "name": "stdout",
     "output_type": "stream",
     "text": [
      "Schools we are removing due to missing information in the Coaches data set\n",
      "------------------------------------------------------------\n",
      "Baylor\n",
      "Brigham Young\n",
      "Rice\n",
      "Southern Methodist\n"
     ]
    }
   ],
   "source": [
    "coach_blankpayIndex = coaches_df[coaches_df['TotalPay'].isna()].index.tolist()\n",
    "print('Schools we are removing due to missing information in the Coaches data set')\n",
    "print('-' * 60)\n",
    "\n",
    "#Either loops here would get the job done\n",
    "#for name in coach_blankpayIndex:\n",
    "    #print(coaches_df['School'].iloc[name])\n",
    "\n",
    "for x in coach_blankpayIndex:\n",
    "    print(coaches_df.loc[x,'School'])\n",
    "\n",
    "coaches_df = coaches_df.drop(labels = coach_blankpayIndex)\n",
    "\n",
    "#resetting the index numbers just in case we need to use it again later for merging\n",
    "coaches_df = coaches_df.reset_index(drop = True)"
   ]
  },
  {
   "cell_type": "code",
   "execution_count": 12,
   "metadata": {},
   "outputs": [
    {
     "name": "stdout",
     "output_type": "stream",
     "text": [
      "Schools we are removing due to missing information in the Grad data set\n",
      "------------------------------------------------------------\n",
      "Brown University\n",
      "Butler University\n",
      "Columbia University-Barnard College\n",
      "Cornell University\n",
      "Dartmouth College\n",
      "Davidson College\n",
      "University of Dayton\n",
      "East Tennessee State University\n",
      "Harvard University\n",
      "Morehead State University\n",
      "University of San Diego\n",
      "Stetson University\n",
      "U.S. Air Force Academy\n",
      "U.S. Military Academy\n",
      "U.S. Naval Academy\n",
      "Valparaiso University\n",
      "Yale University\n"
     ]
    }
   ],
   "source": [
    "grad_blankpayIndex = grad_df[grad_df['FGR'].isna()].index.tolist()\n",
    "print('Schools we are removing due to missing information in the Grad data set')\n",
    "print('-' * 60)\n",
    "\n",
    "for x in grad_blankpayIndex:\n",
    "    print(grad_df.loc[x,'School'])\n",
    "\n",
    "grad_df = grad_df.drop(labels = grad_blankpayIndex)\n",
    "\n",
    "#resetting the index numbers just in case we need to use it again later for merging\n",
    "grad_df = grad_df.reset_index(drop = True)"
   ]
  },
  {
   "cell_type": "code",
   "execution_count": 13,
   "metadata": {},
   "outputs": [
    {
     "name": "stdout",
     "output_type": "stream",
     "text": [
      "School        object\n",
      "Conference    object\n",
      "TotalPay       int32\n",
      "dtype: object\n",
      "--------------------\n",
      "School        object\n",
      "Conference    object\n",
      "Capacity       int32\n",
      "Opened         int64\n",
      "dtype: object\n",
      "--------------------\n",
      "School             object\n",
      "Win                 int64\n",
      "Loss                int64\n",
      "Conference         object\n",
      "Win_Percentage    float64\n",
      "dtype: object\n",
      "--------------------\n",
      "School         object\n",
      "Conference     object\n",
      "GSR             int64\n",
      "FGR           float64\n",
      "dtype: object\n",
      "--------------------\n"
     ]
    }
   ],
   "source": [
    "convert_col(coaches_df, 'TotalPay', int)\n",
    "convert_col(stadium_df, 'Capacity', int)\n",
    "'''\n",
    "convert_col(coaches_df, 'Conference', 'category')\n",
    "convert_col(stadium_df, 'Conference', 'category')\n",
    "convert_col(winloss_df, 'Conference', 'category')\n",
    "convert_col(grad_df, 'Conference', 'category')\n",
    "'''\n",
    "print(coaches_df.dtypes)\n",
    "print('-'*20)\n",
    "print(stadium_df.dtypes)\n",
    "print('-'*20)\n",
    "print(winloss_df.dtypes)\n",
    "print('-'*20)\n",
    "print(grad_df.dtypes)\n",
    "print('-'*20)"
   ]
  },
  {
   "cell_type": "code",
   "execution_count": 14,
   "metadata": {},
   "outputs": [
    {
     "name": "stdout",
     "output_type": "stream",
     "text": [
      "Coaches <-- THIS IS THE MAIN DATA SOURCE WE WILL BE CHANGING THE CONFERENCE NAMES INTO\n",
      "SEC         14\n",
      "AAC         10\n",
      "Ind.         5\n",
      "Mt. West    12\n",
      "MAC         12\n",
      "Big 12       9\n",
      "Big Ten     14\n",
      "ACC         14\n",
      "Sun Belt    10\n",
      "Pac-12      12\n",
      "C-USA       13\n",
      "Name: Conference, dtype: int64\n",
      "----------------------------------------\n",
      "Stadium\n",
      "AAC              12\n",
      "SEC              14\n",
      "Mountain West    12\n",
      "MAC              13\n",
      "Pac 12           12\n",
      "Big Ten          14\n",
      "Big 12           10\n",
      "ACC              14\n",
      "Independent       4\n",
      "CUSA             14\n",
      "Sun Belt         12\n",
      "Name: Conference, dtype: int64\n",
      "----------------------------------------\n",
      "WinLoss\n",
      "Ind.         7\n",
      "AAC         11\n",
      "Mt. West    12\n",
      "MAC         12\n",
      "SEC         14\n",
      "Big Ten     14\n",
      "Big 12      10\n",
      "ACC         14\n",
      "Sun Belt    10\n",
      "Pac-12      12\n",
      "C-USA       14\n",
      "Name: Conference, dtype: int64\n",
      "----------------------------------------\n",
      "Grad\n",
      "Patriot League                          7\n",
      "Mountain West Conference               11\n",
      "Big 12 Conference                      10\n",
      "Missouri Valley Football Conference    11\n",
      "Big Ten Conference                     14\n",
      "Pioneer Football League                 2\n",
      "Atlantic Coast Conference              14\n",
      "American Athletic Conference           10\n",
      "Independent                             9\n",
      "Southern Conference                     8\n",
      "Southwestern Athletic Conf.            11\n",
      "The Ivy League                          2\n",
      "Sun Belt Conference                    10\n",
      "Southland Conference                   11\n",
      "Colonial Athletic Association          12\n",
      "Southeastern Conference                14\n",
      "Mid-Eastern Athletic Conf.              8\n",
      "Big South Conference                    7\n",
      "Conference USA                         14\n",
      "Horizon League                          1\n",
      "Big Sky Conference                     13\n",
      "Pac-12 Conference                      12\n",
      "Northeast Conference                    7\n",
      "Ohio Valley Conference                  9\n",
      "Mid-American Conference                12\n",
      "Name: Conference, dtype: int64\n",
      "----------------------------------------\n"
     ]
    }
   ],
   "source": [
    "#Checking the conference names\n",
    "\n",
    "print(\"Coaches <-- THIS IS THE MAIN DATA SOURCE WE WILL BE CHANGING THE CONFERENCE NAMES INTO\")\n",
    "print(coaches_df['Conference'].value_counts(sort = False))\n",
    "print('-' *40)\n",
    "print(\"Stadium\")\n",
    "print(stadium_df['Conference'].value_counts(sort = False))\n",
    "print('-' *40)\n",
    "print(\"WinLoss\")\n",
    "print(winloss_df['Conference'].value_counts(sort = False))\n",
    "print('-' *40)\n",
    "print(\"Grad\")\n",
    "print(grad_df['Conference'].value_counts(sort = False))\n",
    "print('-' *40)\n"
   ]
  },
  {
   "cell_type": "markdown",
   "metadata": {},
   "source": [
    "Renaming the conference names to match the ones in coaches_df"
   ]
  },
  {
   "cell_type": "code",
   "execution_count": 15,
   "metadata": {},
   "outputs": [],
   "source": [
    "value_replace(stadium_df, 'Conference', 'CUSA', 'C-USA')\n",
    "value_replace(stadium_df, 'Conference', 'Pac 12', 'Pac-12')\n",
    "value_replace(stadium_df, 'Conference', 'Mountain West', 'Mt. West')\n",
    "value_replace(stadium_df, 'Conference', 'Independent', 'Ind.')"
   ]
  },
  {
   "cell_type": "code",
   "execution_count": 16,
   "metadata": {},
   "outputs": [],
   "source": [
    "value_replace(grad_df, 'Conference', 'Southeastern Conference', 'SEC')\n",
    "value_replace(grad_df, 'Conference', 'Independent', 'Ind.')\n",
    "value_replace(grad_df, 'Conference', 'Sun Belt Conference', 'Sun Belt')\n",
    "value_replace(grad_df, 'Conference', 'Mountain West Conference', 'Mt. West')\n",
    "value_replace(grad_df, 'Conference', 'Pac-12 Conference', 'Pac-12')\n",
    "value_replace(grad_df, 'Conference', 'Big 12 Conference', 'Big 12')\n",
    "value_replace(grad_df, 'Conference', 'Mid-American Conference', 'MAC')\n",
    "value_replace(grad_df, 'Conference', 'American Athletic Conference', 'AAC')\n",
    "value_replace(grad_df, 'Conference', 'Conference USA', 'C-USA')\n",
    "value_replace(grad_df, 'Conference', 'Big Ten Conference', 'Big Ten')\n",
    "value_replace(grad_df, 'Conference', 'Atlantic Coast Conference', 'ACC')"
   ]
  },
  {
   "cell_type": "code",
   "execution_count": 17,
   "metadata": {},
   "outputs": [],
   "source": [
    "conference_list = ['AAC','ACC','Big 12','Big Ten','C-USA','Ind.','MAC','Mt. West','Pac-12','SEC','Sun Belt']"
   ]
  },
  {
   "cell_type": "code",
   "execution_count": 18,
   "metadata": {},
   "outputs": [],
   "source": [
    "#removing all other conferences from the grad_df so only the ones listed in coaches_df would remain\n",
    "grad_df = grad_df[grad_df.Conference.isin(conference_list)]"
   ]
  },
  {
   "cell_type": "code",
   "execution_count": 19,
   "metadata": {},
   "outputs": [
    {
     "name": "stdout",
     "output_type": "stream",
     "text": [
      "(125, 3)\n",
      "(131, 4)\n",
      "(130, 5)\n",
      "(130, 4)\n"
     ]
    }
   ],
   "source": [
    "print(coaches_df.shape)\n",
    "print(stadium_df.shape)\n",
    "print(winloss_df.shape)\n",
    "print(grad_df.shape)"
   ]
  },
  {
   "cell_type": "code",
   "execution_count": 20,
   "metadata": {},
   "outputs": [
    {
     "name": "stdout",
     "output_type": "stream",
     "text": [
      "                  School Conference  TotalPay\n",
      "0              Air Force   Mt. West    885000\n",
      "1                  Akron        MAC    412500\n",
      "2                Alabama        SEC   8307000\n",
      "3  Alabama at Birmingham      C-USA    900000\n",
      "4      Appalachian State   Sun Belt    712500\n",
      "       School Conference  Capacity  Opened\n",
      "0    Michigan    Big Ten    107601    1927\n",
      "1  Penn State    Big Ten    106572    1960\n",
      "2  Ohio State    Big Ten    104944    1922\n",
      "3   Texas A&M        SEC    102733    1904\n",
      "4   Tennessee        SEC    102521    1921\n"
     ]
    }
   ],
   "source": [
    "print(coaches_df.head())\n",
    "print(stadium_df.head())"
   ]
  },
  {
   "cell_type": "markdown",
   "metadata": {},
   "source": [
    "## Data Merging"
   ]
  },
  {
   "cell_type": "markdown",
   "metadata": {},
   "source": [
    "Merging the data frames together with the coaches_df as the base.\n",
    "\n",
    "Fuzzy Matching was implemented here to compare the Schools and Conference on both dataframes and then merge them on those fields."
   ]
  },
  {
   "cell_type": "code",
   "execution_count": 21,
   "metadata": {},
   "outputs": [],
   "source": [
    "import fuzzymatcher"
   ]
  },
  {
   "cell_type": "code",
   "execution_count": 22,
   "metadata": {},
   "outputs": [],
   "source": [
    "#https://stackoverflow.com/questions/13636848/is-it-possible-to-do-fuzzy-match-merge-with-python-pandas/56315491#56315491\n",
    "left_on = ['School', 'Conference']\n",
    "\n",
    "# Columns to match on from df_right\n",
    "right_on = ['School', 'Conference']\n",
    "\n",
    "next_df = fuzzymatcher.fuzzy_left_join(coaches_df, stadium_df, left_on, right_on)\n"
   ]
  },
  {
   "cell_type": "markdown",
   "metadata": {},
   "source": [
    "Anything with a negative best_match_score was removed because it most likely didn't match up. There could be instances where some type 1 error was made and a matched school was removed. However, since the columns weren't labelled the same across all dataframes then that's an outcome that needs to be accepted.\n",
    "\n",
    "The following merging and cleaning method is done to mitigiate this error if possible, and keep as many rows as we can."
   ]
  },
  {
   "cell_type": "code",
   "execution_count": 23,
   "metadata": {},
   "outputs": [],
   "source": [
    "next_df = next_df[next_df['best_match_score'] > 0]\n",
    "next_df_edit = next_df[next_df.duplicated(['School_right'],keep=False)]"
   ]
  },
  {
   "cell_type": "code",
   "execution_count": 24,
   "metadata": {},
   "outputs": [
    {
     "data": {
      "text/html": [
       "<div>\n",
       "<style scoped>\n",
       "    .dataframe tbody tr th:only-of-type {\n",
       "        vertical-align: middle;\n",
       "    }\n",
       "\n",
       "    .dataframe tbody tr th {\n",
       "        vertical-align: top;\n",
       "    }\n",
       "\n",
       "    .dataframe thead th {\n",
       "        text-align: right;\n",
       "    }\n",
       "</style>\n",
       "<table border=\"1\" class=\"dataframe\">\n",
       "  <thead>\n",
       "    <tr style=\"text-align: right;\">\n",
       "      <th></th>\n",
       "      <th>best_match_score</th>\n",
       "      <th>__id_left</th>\n",
       "      <th>__id_right</th>\n",
       "      <th>School_left</th>\n",
       "      <th>Conference_left</th>\n",
       "      <th>TotalPay</th>\n",
       "      <th>School_right</th>\n",
       "      <th>Conference_right</th>\n",
       "      <th>Capacity</th>\n",
       "      <th>Opened</th>\n",
       "    </tr>\n",
       "  </thead>\n",
       "  <tbody>\n",
       "    <tr>\n",
       "      <th>32</th>\n",
       "      <td>0.253469</td>\n",
       "      <td>16_left</td>\n",
       "      <td>37_right</td>\n",
       "      <td>California</td>\n",
       "      <td>Pac-12</td>\n",
       "      <td>1500000</td>\n",
       "      <td>California</td>\n",
       "      <td>Pac-12</td>\n",
       "      <td>62717</td>\n",
       "      <td>1923</td>\n",
       "    </tr>\n",
       "    <tr>\n",
       "      <th>82</th>\n",
       "      <td>0.148376</td>\n",
       "      <td>59_left</td>\n",
       "      <td>120_right</td>\n",
       "      <td>Miami (Ohio)</td>\n",
       "      <td>MAC</td>\n",
       "      <td>524826</td>\n",
       "      <td>Ohio</td>\n",
       "      <td>MAC</td>\n",
       "      <td>24000</td>\n",
       "      <td>1929</td>\n",
       "    </tr>\n",
       "    <tr>\n",
       "      <th>94</th>\n",
       "      <td>0.358871</td>\n",
       "      <td>69_left</td>\n",
       "      <td>110_right</td>\n",
       "      <td>Nevada</td>\n",
       "      <td>Mt. West</td>\n",
       "      <td>500000</td>\n",
       "      <td>Nevada</td>\n",
       "      <td>Mt. West</td>\n",
       "      <td>29993</td>\n",
       "      <td>1966</td>\n",
       "    </tr>\n",
       "    <tr>\n",
       "      <th>95</th>\n",
       "      <td>0.205469</td>\n",
       "      <td>70_left</td>\n",
       "      <td>110_right</td>\n",
       "      <td>Nevada-Las Vegas</td>\n",
       "      <td>Mt. West</td>\n",
       "      <td>600000</td>\n",
       "      <td>Nevada</td>\n",
       "      <td>Mt. West</td>\n",
       "      <td>29993</td>\n",
       "      <td>1966</td>\n",
       "    </tr>\n",
       "    <tr>\n",
       "      <th>122</th>\n",
       "      <td>0.388291</td>\n",
       "      <td>73_left</td>\n",
       "      <td>36_right</td>\n",
       "      <td>North Carolina</td>\n",
       "      <td>ACC</td>\n",
       "      <td>2575000</td>\n",
       "      <td>North Carolina</td>\n",
       "      <td>ACC</td>\n",
       "      <td>62980</td>\n",
       "      <td>1927</td>\n",
       "    </tr>\n",
       "    <tr>\n",
       "      <th>123</th>\n",
       "      <td>0.358555</td>\n",
       "      <td>74_left</td>\n",
       "      <td>36_right</td>\n",
       "      <td>North Carolina State</td>\n",
       "      <td>ACC</td>\n",
       "      <td>3000000</td>\n",
       "      <td>North Carolina</td>\n",
       "      <td>ACC</td>\n",
       "      <td>62980</td>\n",
       "      <td>1927</td>\n",
       "    </tr>\n",
       "    <tr>\n",
       "      <th>149</th>\n",
       "      <td>0.467777</td>\n",
       "      <td>75_left</td>\n",
       "      <td>97_right</td>\n",
       "      <td>North Texas</td>\n",
       "      <td>C-USA</td>\n",
       "      <td>1425000</td>\n",
       "      <td>North Texas</td>\n",
       "      <td>C-USA</td>\n",
       "      <td>30850</td>\n",
       "      <td>2011</td>\n",
       "    </tr>\n",
       "    <tr>\n",
       "      <th>153</th>\n",
       "      <td>0.214676</td>\n",
       "      <td>79_left</td>\n",
       "      <td>120_right</td>\n",
       "      <td>Ohio</td>\n",
       "      <td>MAC</td>\n",
       "      <td>580331</td>\n",
       "      <td>Ohio</td>\n",
       "      <td>MAC</td>\n",
       "      <td>24000</td>\n",
       "      <td>1929</td>\n",
       "    </tr>\n",
       "    <tr>\n",
       "      <th>171</th>\n",
       "      <td>0.187169</td>\n",
       "      <td>95_left</td>\n",
       "      <td>37_right</td>\n",
       "      <td>Southern California</td>\n",
       "      <td>Pac-12</td>\n",
       "      <td>2625965</td>\n",
       "      <td>California</td>\n",
       "      <td>Pac-12</td>\n",
       "      <td>62717</td>\n",
       "      <td>1923</td>\n",
       "    </tr>\n",
       "    <tr>\n",
       "      <th>200</th>\n",
       "      <td>0.196837</td>\n",
       "      <td>100_left</td>\n",
       "      <td>7_right</td>\n",
       "      <td>Texas</td>\n",
       "      <td>Big 12</td>\n",
       "      <td>5500000</td>\n",
       "      <td>Texas</td>\n",
       "      <td>Big 12</td>\n",
       "      <td>100119</td>\n",
       "      <td>1924</td>\n",
       "    </tr>\n",
       "    <tr>\n",
       "      <th>203</th>\n",
       "      <td>0.120136</td>\n",
       "      <td>102_left</td>\n",
       "      <td>7_right</td>\n",
       "      <td>Texas Christian</td>\n",
       "      <td>Big 12</td>\n",
       "      <td>4840717</td>\n",
       "      <td>Texas</td>\n",
       "      <td>Big 12</td>\n",
       "      <td>100119</td>\n",
       "      <td>1924</td>\n",
       "    </tr>\n",
       "    <tr>\n",
       "      <th>207</th>\n",
       "      <td>0.043283</td>\n",
       "      <td>105_left</td>\n",
       "      <td>97_right</td>\n",
       "      <td>Texas-El Paso</td>\n",
       "      <td>C-USA</td>\n",
       "      <td>700000</td>\n",
       "      <td>North Texas</td>\n",
       "      <td>C-USA</td>\n",
       "      <td>30850</td>\n",
       "      <td>2011</td>\n",
       "    </tr>\n",
       "    <tr>\n",
       "      <th>208</th>\n",
       "      <td>0.053684</td>\n",
       "      <td>106_left</td>\n",
       "      <td>97_right</td>\n",
       "      <td>Texas-San Antonio</td>\n",
       "      <td>C-USA</td>\n",
       "      <td>1100000</td>\n",
       "      <td>North Texas</td>\n",
       "      <td>C-USA</td>\n",
       "      <td>30850</td>\n",
       "      <td>2011</td>\n",
       "    </tr>\n",
       "  </tbody>\n",
       "</table>\n",
       "</div>"
      ],
      "text/plain": [
       "     best_match_score __id_left __id_right           School_left  \\\n",
       "32           0.253469   16_left   37_right            California   \n",
       "82           0.148376   59_left  120_right          Miami (Ohio)   \n",
       "94           0.358871   69_left  110_right                Nevada   \n",
       "95           0.205469   70_left  110_right      Nevada-Las Vegas   \n",
       "122          0.388291   73_left   36_right        North Carolina   \n",
       "123          0.358555   74_left   36_right  North Carolina State   \n",
       "149          0.467777   75_left   97_right           North Texas   \n",
       "153          0.214676   79_left  120_right                  Ohio   \n",
       "171          0.187169   95_left   37_right   Southern California   \n",
       "200          0.196837  100_left    7_right                 Texas   \n",
       "203          0.120136  102_left    7_right       Texas Christian   \n",
       "207          0.043283  105_left   97_right         Texas-El Paso   \n",
       "208          0.053684  106_left   97_right     Texas-San Antonio   \n",
       "\n",
       "    Conference_left  TotalPay    School_right Conference_right  Capacity  \\\n",
       "32           Pac-12   1500000      California           Pac-12     62717   \n",
       "82              MAC    524826            Ohio              MAC     24000   \n",
       "94         Mt. West    500000          Nevada         Mt. West     29993   \n",
       "95         Mt. West    600000          Nevada         Mt. West     29993   \n",
       "122             ACC   2575000  North Carolina              ACC     62980   \n",
       "123             ACC   3000000  North Carolina              ACC     62980   \n",
       "149           C-USA   1425000     North Texas            C-USA     30850   \n",
       "153             MAC    580331            Ohio              MAC     24000   \n",
       "171          Pac-12   2625965      California           Pac-12     62717   \n",
       "200          Big 12   5500000           Texas           Big 12    100119   \n",
       "203          Big 12   4840717           Texas           Big 12    100119   \n",
       "207           C-USA    700000     North Texas            C-USA     30850   \n",
       "208           C-USA   1100000     North Texas            C-USA     30850   \n",
       "\n",
       "     Opened  \n",
       "32     1923  \n",
       "82     1929  \n",
       "94     1966  \n",
       "95     1966  \n",
       "122    1927  \n",
       "123    1927  \n",
       "149    2011  \n",
       "153    1929  \n",
       "171    1923  \n",
       "200    1924  \n",
       "203    1924  \n",
       "207    2011  \n",
       "208    2011  "
      ]
     },
     "execution_count": 24,
     "metadata": {},
     "output_type": "execute_result"
    }
   ],
   "source": [
    "next_df_edit"
   ]
  },
  {
   "cell_type": "code",
   "execution_count": 25,
   "metadata": {},
   "outputs": [
    {
     "name": "stdout",
     "output_type": "stream",
     "text": [
      "                School Conference  TotalPay  Capacity  Opened\n",
      "0            Air Force   Mt. West    885000     52237    1962\n",
      "1                Akron        MAC    412500     30000    2009\n",
      "2              Alabama        SEC   8307000    101821    1929\n",
      "19   Appalachian State   Sun Belt    712500     24150    1962\n",
      "20             Arizona     Pac-12   2000000     56037    1928\n",
      "..                 ...        ...       ...       ...     ...\n",
      "224      West Virginia     Big 12   3617500     60000    1980\n",
      "225   Western Kentucky      C-USA    805850     22113    1968\n",
      "226   Western Michigan        MAC    800000     30200    1939\n",
      "227          Wisconsin    Big Ten   3750000     80321    1917\n",
      "228            Wyoming   Mt. West   1412000     29181    1950\n",
      "\n",
      "[115 rows x 5 columns]\n"
     ]
    }
   ],
   "source": [
    "next_df = next_df.drop([82,95,123,171,203,207,208])\n",
    "next_df = next_df.drop(columns = ['Conference_right','School_right','best_match_score','__id_left','__id_right'])\n",
    "next_df = next_df.rename(columns = {'School_left' :'School', 'Conference_left': 'Conference'})\n",
    "print(next_df)"
   ]
  },
  {
   "cell_type": "code",
   "execution_count": 26,
   "metadata": {},
   "outputs": [],
   "source": [
    "left_on = ['School', 'Conference']\n",
    "right_on = ['School', 'Conference']\n",
    "next_df2 = fuzzymatcher.fuzzy_left_join(next_df, winloss_df, left_on, right_on)"
   ]
  },
  {
   "cell_type": "code",
   "execution_count": 27,
   "metadata": {},
   "outputs": [],
   "source": [
    "next_df2 = next_df2[next_df2['best_match_score'] > 0]\n",
    "next_df_edit2 = next_df2[next_df2.duplicated(['School_right'],keep=False)]"
   ]
  },
  {
   "cell_type": "code",
   "execution_count": 28,
   "metadata": {},
   "outputs": [
    {
     "data": {
      "text/html": [
       "<div>\n",
       "<style scoped>\n",
       "    .dataframe tbody tr th:only-of-type {\n",
       "        vertical-align: middle;\n",
       "    }\n",
       "\n",
       "    .dataframe tbody tr th {\n",
       "        vertical-align: top;\n",
       "    }\n",
       "\n",
       "    .dataframe thead th {\n",
       "        text-align: right;\n",
       "    }\n",
       "</style>\n",
       "<table border=\"1\" class=\"dataframe\">\n",
       "  <thead>\n",
       "    <tr style=\"text-align: right;\">\n",
       "      <th></th>\n",
       "      <th>best_match_score</th>\n",
       "      <th>__id_left</th>\n",
       "      <th>__id_right</th>\n",
       "      <th>School_left</th>\n",
       "      <th>Conference_left</th>\n",
       "      <th>TotalPay</th>\n",
       "      <th>Capacity</th>\n",
       "      <th>Opened</th>\n",
       "      <th>School_right</th>\n",
       "      <th>Win</th>\n",
       "      <th>Loss</th>\n",
       "      <th>Conference_right</th>\n",
       "      <th>Win_Percentage</th>\n",
       "    </tr>\n",
       "  </thead>\n",
       "  <tbody>\n",
       "    <tr>\n",
       "      <th>3</th>\n",
       "      <td>0.156611</td>\n",
       "      <td>3_left</td>\n",
       "      <td>121_right</td>\n",
       "      <td>Appalachian State</td>\n",
       "      <td>Sun Belt</td>\n",
       "      <td>712500</td>\n",
       "      <td>24150</td>\n",
       "      <td>1962</td>\n",
       "      <td>App State</td>\n",
       "      <td>10</td>\n",
       "      <td>4</td>\n",
       "      <td>Sun Belt</td>\n",
       "      <td>0.714286</td>\n",
       "    </tr>\n",
       "    <tr>\n",
       "      <th>4</th>\n",
       "      <td>0.232355</td>\n",
       "      <td>4_left</td>\n",
       "      <td>105_right</td>\n",
       "      <td>Arizona</td>\n",
       "      <td>Pac-12</td>\n",
       "      <td>2000000</td>\n",
       "      <td>56037</td>\n",
       "      <td>1928</td>\n",
       "      <td>Arizona</td>\n",
       "      <td>1</td>\n",
       "      <td>11</td>\n",
       "      <td>Pac-12</td>\n",
       "      <td>0.083333</td>\n",
       "    </tr>\n",
       "    <tr>\n",
       "      <th>6</th>\n",
       "      <td>0.166205</td>\n",
       "      <td>5_left</td>\n",
       "      <td>105_right</td>\n",
       "      <td>Arizona State</td>\n",
       "      <td>Pac-12</td>\n",
       "      <td>2000000</td>\n",
       "      <td>56232</td>\n",
       "      <td>1958</td>\n",
       "      <td>Arizona</td>\n",
       "      <td>1</td>\n",
       "      <td>11</td>\n",
       "      <td>Pac-12</td>\n",
       "      <td>0.083333</td>\n",
       "    </tr>\n",
       "    <tr>\n",
       "      <th>19</th>\n",
       "      <td>0.165393</td>\n",
       "      <td>7_left</td>\n",
       "      <td>121_right</td>\n",
       "      <td>Arkansas State</td>\n",
       "      <td>Sun Belt</td>\n",
       "      <td>825000</td>\n",
       "      <td>30964</td>\n",
       "      <td>2002</td>\n",
       "      <td>App State</td>\n",
       "      <td>10</td>\n",
       "      <td>4</td>\n",
       "      <td>Sun Belt</td>\n",
       "      <td>0.714286</td>\n",
       "    </tr>\n",
       "    <tr>\n",
       "      <th>169</th>\n",
       "      <td>0.365874</td>\n",
       "      <td>39_left</td>\n",
       "      <td>43_right</td>\n",
       "      <td>Illinois</td>\n",
       "      <td>Big Ten</td>\n",
       "      <td>5000000</td>\n",
       "      <td>60670</td>\n",
       "      <td>1923</td>\n",
       "      <td>Illinois</td>\n",
       "      <td>5</td>\n",
       "      <td>7</td>\n",
       "      <td>Big Ten</td>\n",
       "      <td>0.416667</td>\n",
       "    </tr>\n",
       "    <tr>\n",
       "      <th>182</th>\n",
       "      <td>0.222321</td>\n",
       "      <td>43_left</td>\n",
       "      <td>34_right</td>\n",
       "      <td>Kansas</td>\n",
       "      <td>Big 12</td>\n",
       "      <td>1701109</td>\n",
       "      <td>50071</td>\n",
       "      <td>1921</td>\n",
       "      <td>Kansas</td>\n",
       "      <td>2</td>\n",
       "      <td>10</td>\n",
       "      <td>Big 12</td>\n",
       "      <td>0.166667</td>\n",
       "    </tr>\n",
       "    <tr>\n",
       "      <th>184</th>\n",
       "      <td>0.156170</td>\n",
       "      <td>44_left</td>\n",
       "      <td>34_right</td>\n",
       "      <td>Kansas State</td>\n",
       "      <td>Big 12</td>\n",
       "      <td>3500000</td>\n",
       "      <td>50000</td>\n",
       "      <td>1968</td>\n",
       "      <td>Kansas</td>\n",
       "      <td>2</td>\n",
       "      <td>10</td>\n",
       "      <td>Big 12</td>\n",
       "      <td>0.166667</td>\n",
       "    </tr>\n",
       "    <tr>\n",
       "      <th>208</th>\n",
       "      <td>0.301798</td>\n",
       "      <td>48_left</td>\n",
       "      <td>120_right</td>\n",
       "      <td>Louisiana-Lafayette</td>\n",
       "      <td>Sun Belt</td>\n",
       "      <td>850000</td>\n",
       "      <td>31000</td>\n",
       "      <td>1971</td>\n",
       "      <td>Louisiana</td>\n",
       "      <td>13</td>\n",
       "      <td>1</td>\n",
       "      <td>Sun Belt</td>\n",
       "      <td>0.928571</td>\n",
       "    </tr>\n",
       "    <tr>\n",
       "      <th>209</th>\n",
       "      <td>0.301798</td>\n",
       "      <td>49_left</td>\n",
       "      <td>120_right</td>\n",
       "      <td>Louisiana-Monroe</td>\n",
       "      <td>Sun Belt</td>\n",
       "      <td>390000</td>\n",
       "      <td>30427</td>\n",
       "      <td>1978</td>\n",
       "      <td>Louisiana</td>\n",
       "      <td>13</td>\n",
       "      <td>1</td>\n",
       "      <td>Sun Belt</td>\n",
       "      <td>0.928571</td>\n",
       "    </tr>\n",
       "    <tr>\n",
       "      <th>229</th>\n",
       "      <td>0.335771</td>\n",
       "      <td>56_left</td>\n",
       "      <td>35_right</td>\n",
       "      <td>Michigan</td>\n",
       "      <td>Big Ten</td>\n",
       "      <td>7504000</td>\n",
       "      <td>107601</td>\n",
       "      <td>1927</td>\n",
       "      <td>Michigan</td>\n",
       "      <td>12</td>\n",
       "      <td>2</td>\n",
       "      <td>Big Ten</td>\n",
       "      <td>0.857143</td>\n",
       "    </tr>\n",
       "    <tr>\n",
       "      <th>231</th>\n",
       "      <td>0.269620</td>\n",
       "      <td>57_left</td>\n",
       "      <td>35_right</td>\n",
       "      <td>Michigan State</td>\n",
       "      <td>Big Ten</td>\n",
       "      <td>4390417</td>\n",
       "      <td>75005</td>\n",
       "      <td>1923</td>\n",
       "      <td>Michigan</td>\n",
       "      <td>12</td>\n",
       "      <td>2</td>\n",
       "      <td>Big Ten</td>\n",
       "      <td>0.857143</td>\n",
       "    </tr>\n",
       "    <tr>\n",
       "      <th>260</th>\n",
       "      <td>0.200973</td>\n",
       "      <td>60_left</td>\n",
       "      <td>113_right</td>\n",
       "      <td>Mississippi</td>\n",
       "      <td>SEC</td>\n",
       "      <td>3000000</td>\n",
       "      <td>58580</td>\n",
       "      <td>1915</td>\n",
       "      <td>Mississippi St.</td>\n",
       "      <td>7</td>\n",
       "      <td>6</td>\n",
       "      <td>SEC</td>\n",
       "      <td>0.538462</td>\n",
       "    </tr>\n",
       "    <tr>\n",
       "      <th>261</th>\n",
       "      <td>0.134822</td>\n",
       "      <td>61_left</td>\n",
       "      <td>113_right</td>\n",
       "      <td>Mississippi State</td>\n",
       "      <td>SEC</td>\n",
       "      <td>2600000</td>\n",
       "      <td>64038</td>\n",
       "      <td>1914</td>\n",
       "      <td>Mississippi St.</td>\n",
       "      <td>7</td>\n",
       "      <td>6</td>\n",
       "      <td>SEC</td>\n",
       "      <td>0.538462</td>\n",
       "    </tr>\n",
       "    <tr>\n",
       "      <th>289</th>\n",
       "      <td>0.048973</td>\n",
       "      <td>70_left</td>\n",
       "      <td>43_right</td>\n",
       "      <td>Northern Illinois</td>\n",
       "      <td>MAC</td>\n",
       "      <td>633460</td>\n",
       "      <td>24000</td>\n",
       "      <td>1965</td>\n",
       "      <td>Illinois</td>\n",
       "      <td>5</td>\n",
       "      <td>7</td>\n",
       "      <td>Big Ten</td>\n",
       "      <td>0.416667</td>\n",
       "    </tr>\n",
       "    <tr>\n",
       "      <th>319</th>\n",
       "      <td>0.222321</td>\n",
       "      <td>75_left</td>\n",
       "      <td>27_right</td>\n",
       "      <td>Oklahoma</td>\n",
       "      <td>Big 12</td>\n",
       "      <td>4800000</td>\n",
       "      <td>84000</td>\n",
       "      <td>1925</td>\n",
       "      <td>Oklahoma</td>\n",
       "      <td>11</td>\n",
       "      <td>2</td>\n",
       "      <td>Big 12</td>\n",
       "      <td>0.846154</td>\n",
       "    </tr>\n",
       "    <tr>\n",
       "      <th>321</th>\n",
       "      <td>0.156170</td>\n",
       "      <td>76_left</td>\n",
       "      <td>27_right</td>\n",
       "      <td>Oklahoma State</td>\n",
       "      <td>Big 12</td>\n",
       "      <td>5000000</td>\n",
       "      <td>60218</td>\n",
       "      <td>1920</td>\n",
       "      <td>Oklahoma</td>\n",
       "      <td>11</td>\n",
       "      <td>2</td>\n",
       "      <td>Big 12</td>\n",
       "      <td>0.846154</td>\n",
       "    </tr>\n",
       "    <tr>\n",
       "      <th>332</th>\n",
       "      <td>0.232355</td>\n",
       "      <td>78_left</td>\n",
       "      <td>95_right</td>\n",
       "      <td>Oregon</td>\n",
       "      <td>Pac-12</td>\n",
       "      <td>2500000</td>\n",
       "      <td>54000</td>\n",
       "      <td>1967</td>\n",
       "      <td>Oregon</td>\n",
       "      <td>10</td>\n",
       "      <td>4</td>\n",
       "      <td>Pac-12</td>\n",
       "      <td>0.714286</td>\n",
       "    </tr>\n",
       "    <tr>\n",
       "      <th>334</th>\n",
       "      <td>0.166205</td>\n",
       "      <td>79_left</td>\n",
       "      <td>95_right</td>\n",
       "      <td>Oregon State</td>\n",
       "      <td>Pac-12</td>\n",
       "      <td>1900008</td>\n",
       "      <td>45674</td>\n",
       "      <td>1953</td>\n",
       "      <td>Oregon</td>\n",
       "      <td>10</td>\n",
       "      <td>4</td>\n",
       "      <td>Pac-12</td>\n",
       "      <td>0.714286</td>\n",
       "    </tr>\n",
       "    <tr>\n",
       "      <th>422</th>\n",
       "      <td>0.301357</td>\n",
       "      <td>108_left</td>\n",
       "      <td>102_right</td>\n",
       "      <td>Washington</td>\n",
       "      <td>Pac-12</td>\n",
       "      <td>4377500</td>\n",
       "      <td>70138</td>\n",
       "      <td>1920</td>\n",
       "      <td>Washington</td>\n",
       "      <td>4</td>\n",
       "      <td>8</td>\n",
       "      <td>Pac-12</td>\n",
       "      <td>0.333333</td>\n",
       "    </tr>\n",
       "    <tr>\n",
       "      <th>424</th>\n",
       "      <td>0.235206</td>\n",
       "      <td>109_left</td>\n",
       "      <td>102_right</td>\n",
       "      <td>Washington State</td>\n",
       "      <td>Pac-12</td>\n",
       "      <td>3500000</td>\n",
       "      <td>35117</td>\n",
       "      <td>1972</td>\n",
       "      <td>Washington</td>\n",
       "      <td>4</td>\n",
       "      <td>8</td>\n",
       "      <td>Pac-12</td>\n",
       "      <td>0.333333</td>\n",
       "    </tr>\n",
       "  </tbody>\n",
       "</table>\n",
       "</div>"
      ],
      "text/plain": [
       "     best_match_score __id_left __id_right          School_left  \\\n",
       "3            0.156611    3_left  121_right    Appalachian State   \n",
       "4            0.232355    4_left  105_right              Arizona   \n",
       "6            0.166205    5_left  105_right        Arizona State   \n",
       "19           0.165393    7_left  121_right       Arkansas State   \n",
       "169          0.365874   39_left   43_right             Illinois   \n",
       "182          0.222321   43_left   34_right               Kansas   \n",
       "184          0.156170   44_left   34_right         Kansas State   \n",
       "208          0.301798   48_left  120_right  Louisiana-Lafayette   \n",
       "209          0.301798   49_left  120_right     Louisiana-Monroe   \n",
       "229          0.335771   56_left   35_right             Michigan   \n",
       "231          0.269620   57_left   35_right       Michigan State   \n",
       "260          0.200973   60_left  113_right          Mississippi   \n",
       "261          0.134822   61_left  113_right    Mississippi State   \n",
       "289          0.048973   70_left   43_right    Northern Illinois   \n",
       "319          0.222321   75_left   27_right             Oklahoma   \n",
       "321          0.156170   76_left   27_right       Oklahoma State   \n",
       "332          0.232355   78_left   95_right               Oregon   \n",
       "334          0.166205   79_left   95_right         Oregon State   \n",
       "422          0.301357  108_left  102_right           Washington   \n",
       "424          0.235206  109_left  102_right     Washington State   \n",
       "\n",
       "    Conference_left  TotalPay  Capacity  Opened     School_right  Win  Loss  \\\n",
       "3          Sun Belt    712500     24150    1962        App State   10     4   \n",
       "4            Pac-12   2000000     56037    1928          Arizona    1    11   \n",
       "6            Pac-12   2000000     56232    1958          Arizona    1    11   \n",
       "19         Sun Belt    825000     30964    2002        App State   10     4   \n",
       "169         Big Ten   5000000     60670    1923         Illinois    5     7   \n",
       "182          Big 12   1701109     50071    1921           Kansas    2    10   \n",
       "184          Big 12   3500000     50000    1968           Kansas    2    10   \n",
       "208        Sun Belt    850000     31000    1971        Louisiana   13     1   \n",
       "209        Sun Belt    390000     30427    1978        Louisiana   13     1   \n",
       "229         Big Ten   7504000    107601    1927         Michigan   12     2   \n",
       "231         Big Ten   4390417     75005    1923         Michigan   12     2   \n",
       "260             SEC   3000000     58580    1915  Mississippi St.    7     6   \n",
       "261             SEC   2600000     64038    1914  Mississippi St.    7     6   \n",
       "289             MAC    633460     24000    1965         Illinois    5     7   \n",
       "319          Big 12   4800000     84000    1925         Oklahoma   11     2   \n",
       "321          Big 12   5000000     60218    1920         Oklahoma   11     2   \n",
       "332          Pac-12   2500000     54000    1967           Oregon   10     4   \n",
       "334          Pac-12   1900008     45674    1953           Oregon   10     4   \n",
       "422          Pac-12   4377500     70138    1920       Washington    4     8   \n",
       "424          Pac-12   3500000     35117    1972       Washington    4     8   \n",
       "\n",
       "    Conference_right  Win_Percentage  \n",
       "3           Sun Belt        0.714286  \n",
       "4             Pac-12        0.083333  \n",
       "6             Pac-12        0.083333  \n",
       "19          Sun Belt        0.714286  \n",
       "169          Big Ten        0.416667  \n",
       "182           Big 12        0.166667  \n",
       "184           Big 12        0.166667  \n",
       "208         Sun Belt        0.928571  \n",
       "209         Sun Belt        0.928571  \n",
       "229          Big Ten        0.857143  \n",
       "231          Big Ten        0.857143  \n",
       "260              SEC        0.538462  \n",
       "261              SEC        0.538462  \n",
       "289          Big Ten        0.416667  \n",
       "319           Big 12        0.846154  \n",
       "321           Big 12        0.846154  \n",
       "332           Pac-12        0.714286  \n",
       "334           Pac-12        0.714286  \n",
       "422           Pac-12        0.333333  \n",
       "424           Pac-12        0.333333  "
      ]
     },
     "execution_count": 28,
     "metadata": {},
     "output_type": "execute_result"
    }
   ],
   "source": [
    "next_df_edit2"
   ]
  },
  {
   "cell_type": "code",
   "execution_count": 29,
   "metadata": {},
   "outputs": [
    {
     "name": "stdout",
     "output_type": "stream",
     "text": [
      "                School Conference  TotalPay  Capacity  Opened  Win  Loss  \\\n",
      "0            Air Force   Mt. West    885000     52237    1962   10     3   \n",
      "1                Akron        MAC    412500     30000    2009    2    10   \n",
      "2              Alabama        SEC   8307000    101821    1929   13     2   \n",
      "3    Appalachian State   Sun Belt    712500     24150    1962   10     4   \n",
      "4              Arizona     Pac-12   2000000     56037    1928    1    11   \n",
      "..                 ...        ...       ...       ...     ...  ...   ...   \n",
      "436      West Virginia     Big 12   3617500     60000    1980    6     7   \n",
      "437   Western Kentucky      C-USA    805850     22113    1968    9     5   \n",
      "438   Western Michigan        MAC    800000     30200    1939    8     5   \n",
      "450          Wisconsin    Big Ten   3750000     80321    1917    9     4   \n",
      "451            Wyoming   Mt. West   1412000     29181    1950    7     6   \n",
      "\n",
      "     Win_Percentage  \n",
      "0          0.769231  \n",
      "1          0.166667  \n",
      "2          0.866667  \n",
      "3          0.714286  \n",
      "4          0.083333  \n",
      "..              ...  \n",
      "436        0.461538  \n",
      "437        0.642857  \n",
      "438        0.615385  \n",
      "450        0.692308  \n",
      "451        0.538462  \n",
      "\n",
      "[102 rows x 8 columns]\n"
     ]
    }
   ],
   "source": [
    "next_df2 = next_df2.drop([6,19,184,208,209,231,260,289,321,334,424])\n",
    "next_df2 = next_df2.drop(columns = ['Conference_right','School_right','best_match_score','__id_left','__id_right'])\n",
    "next_df2 = next_df2.rename(columns = {'School_left' :'School', 'Conference_left': 'Conference'})\n",
    "print(next_df2)"
   ]
  },
  {
   "cell_type": "code",
   "execution_count": 30,
   "metadata": {},
   "outputs": [],
   "source": [
    "left_on = ['School', 'Conference']\n",
    "right_on = ['School', 'Conference']\n",
    "next_df3 = fuzzymatcher.fuzzy_left_join(next_df2, grad_df, left_on, right_on)"
   ]
  },
  {
   "cell_type": "code",
   "execution_count": 31,
   "metadata": {},
   "outputs": [],
   "source": [
    "next_df3 = next_df3[next_df3['best_match_score'] > 0]\n",
    "next_df_edit3 = next_df3[next_df3.duplicated(['School_right'],keep=False)]"
   ]
  },
  {
   "cell_type": "code",
   "execution_count": 32,
   "metadata": {},
   "outputs": [
    {
     "data": {
      "text/html": [
       "<div>\n",
       "<style scoped>\n",
       "    .dataframe tbody tr th:only-of-type {\n",
       "        vertical-align: middle;\n",
       "    }\n",
       "\n",
       "    .dataframe tbody tr th {\n",
       "        vertical-align: top;\n",
       "    }\n",
       "\n",
       "    .dataframe thead th {\n",
       "        text-align: right;\n",
       "    }\n",
       "</style>\n",
       "<table border=\"1\" class=\"dataframe\">\n",
       "  <thead>\n",
       "    <tr style=\"text-align: right;\">\n",
       "      <th></th>\n",
       "      <th>best_match_score</th>\n",
       "      <th>__id_left</th>\n",
       "      <th>__id_right</th>\n",
       "      <th>School_left</th>\n",
       "      <th>Conference_left</th>\n",
       "      <th>TotalPay</th>\n",
       "      <th>Capacity</th>\n",
       "      <th>Opened</th>\n",
       "      <th>Win</th>\n",
       "      <th>Loss</th>\n",
       "      <th>Win_Percentage</th>\n",
       "      <th>School_right</th>\n",
       "      <th>Conference_right</th>\n",
       "      <th>GSR</th>\n",
       "      <th>FGR</th>\n",
       "    </tr>\n",
       "  </thead>\n",
       "  <tbody>\n",
       "    <tr>\n",
       "      <th>146</th>\n",
       "      <td>0.108831</td>\n",
       "      <td>81_left</td>\n",
       "      <td>106_right</td>\n",
       "      <td>Texas</td>\n",
       "      <td>Big 12</td>\n",
       "      <td>5500000</td>\n",
       "      <td>100119</td>\n",
       "      <td>1924</td>\n",
       "      <td>5</td>\n",
       "      <td>7</td>\n",
       "      <td>0.416667</td>\n",
       "      <td>Texas Tech University</td>\n",
       "      <td>Big 12</td>\n",
       "      <td>76</td>\n",
       "      <td>52.0</td>\n",
       "    </tr>\n",
       "    <tr>\n",
       "      <th>151</th>\n",
       "      <td>0.416456</td>\n",
       "      <td>84_left</td>\n",
       "      <td>106_right</td>\n",
       "      <td>Texas Tech</td>\n",
       "      <td>Big 12</td>\n",
       "      <td>3703975</td>\n",
       "      <td>60862</td>\n",
       "      <td>1947</td>\n",
       "      <td>7</td>\n",
       "      <td>6</td>\n",
       "      <td>0.538462</td>\n",
       "      <td>Texas Tech University</td>\n",
       "      <td>Big 12</td>\n",
       "      <td>76</td>\n",
       "      <td>52.0</td>\n",
       "    </tr>\n",
       "    <tr>\n",
       "      <th>181</th>\n",
       "      <td>0.242603</td>\n",
       "      <td>93_left</td>\n",
       "      <td>118_right</td>\n",
       "      <td>Virginia</td>\n",
       "      <td>ACC</td>\n",
       "      <td>3550000</td>\n",
       "      <td>61500</td>\n",
       "      <td>1931</td>\n",
       "      <td>6</td>\n",
       "      <td>6</td>\n",
       "      <td>0.500000</td>\n",
       "      <td>University of Virginia</td>\n",
       "      <td>ACC</td>\n",
       "      <td>86</td>\n",
       "      <td>71.0</td>\n",
       "    </tr>\n",
       "    <tr>\n",
       "      <th>183</th>\n",
       "      <td>0.164133</td>\n",
       "      <td>94_left</td>\n",
       "      <td>118_right</td>\n",
       "      <td>Virginia Tech</td>\n",
       "      <td>ACC</td>\n",
       "      <td>4000000</td>\n",
       "      <td>66233</td>\n",
       "      <td>1965</td>\n",
       "      <td>6</td>\n",
       "      <td>7</td>\n",
       "      <td>0.461538</td>\n",
       "      <td>University of Virginia</td>\n",
       "      <td>ACC</td>\n",
       "      <td>86</td>\n",
       "      <td>71.0</td>\n",
       "    </tr>\n",
       "  </tbody>\n",
       "</table>\n",
       "</div>"
      ],
      "text/plain": [
       "     best_match_score __id_left __id_right    School_left Conference_left  \\\n",
       "146          0.108831   81_left  106_right          Texas          Big 12   \n",
       "151          0.416456   84_left  106_right     Texas Tech          Big 12   \n",
       "181          0.242603   93_left  118_right       Virginia             ACC   \n",
       "183          0.164133   94_left  118_right  Virginia Tech             ACC   \n",
       "\n",
       "     TotalPay  Capacity  Opened  Win  Loss  Win_Percentage  \\\n",
       "146   5500000    100119    1924    5     7        0.416667   \n",
       "151   3703975     60862    1947    7     6        0.538462   \n",
       "181   3550000     61500    1931    6     6        0.500000   \n",
       "183   4000000     66233    1965    6     7        0.461538   \n",
       "\n",
       "               School_right Conference_right  GSR   FGR  \n",
       "146   Texas Tech University           Big 12   76  52.0  \n",
       "151   Texas Tech University           Big 12   76  52.0  \n",
       "181  University of Virginia              ACC   86  71.0  \n",
       "183  University of Virginia              ACC   86  71.0  "
      ]
     },
     "execution_count": 32,
     "metadata": {},
     "output_type": "execute_result"
    }
   ],
   "source": [
    "next_df_edit3"
   ]
  },
  {
   "cell_type": "code",
   "execution_count": 33,
   "metadata": {},
   "outputs": [
    {
     "name": "stdout",
     "output_type": "stream",
     "text": [
      "                School Conference  TotalPay  Capacity  Opened  Win  Loss  \\\n",
      "12               Akron        MAC    412500     30000    2009    2    10   \n",
      "13             Alabama        SEC   8307000    101821    1929   13     2   \n",
      "14   Appalachian State   Sun Belt    712500     24150    1962   10     4   \n",
      "15             Arizona     Pac-12   2000000     56037    1928    1    11   \n",
      "17            Arkansas        SEC   3500000     72000    1938    9     4   \n",
      "..                 ...        ...       ...       ...     ...  ...   ...   \n",
      "188      West Virginia     Big 12   3617500     60000    1980    6     7   \n",
      "189   Western Kentucky      C-USA    805850     22113    1968    9     5   \n",
      "190   Western Michigan        MAC    800000     30200    1939    8     5   \n",
      "191          Wisconsin    Big Ten   3750000     80321    1917    9     4   \n",
      "192            Wyoming   Mt. West   1412000     29181    1950    7     6   \n",
      "\n",
      "     Win_Percentage  GSR   FGR  \n",
      "12         0.166667   79  76.0  \n",
      "13         0.866667   86  65.0  \n",
      "14         0.714286   78  60.0  \n",
      "15         0.083333   73  55.0  \n",
      "17         0.692308   84  57.0  \n",
      "..              ...  ...   ...  \n",
      "188        0.461538   74  60.0  \n",
      "189        0.642857   74  57.0  \n",
      "190        0.615385   74  40.0  \n",
      "191        0.692308   90  81.0  \n",
      "192        0.538462   87  52.0  \n",
      "\n",
      "[94 rows x 10 columns]\n"
     ]
    }
   ],
   "source": [
    "next_df3 = next_df3.drop([146,183])\n",
    "next_df3 = next_df3.drop(columns = ['Conference_right','School_right','best_match_score','__id_left','__id_right'])\n",
    "next_df3 = next_df3.rename(columns = {'School_left' :'School', 'Conference_left': 'Conference'})\n",
    "print(next_df3)"
   ]
  },
  {
   "cell_type": "code",
   "execution_count": 34,
   "metadata": {},
   "outputs": [],
   "source": [
    "#our merged data frame exists now\n",
    "merged_df = next_df3"
   ]
  },
  {
   "cell_type": "markdown",
   "metadata": {},
   "source": [
    "## Final Data Cleaning After Merge"
   ]
  },
  {
   "cell_type": "code",
   "execution_count": 35,
   "metadata": {},
   "outputs": [
    {
     "name": "stdout",
     "output_type": "stream",
     "text": [
      "Schools removed due to inconsistency in naming and/or missing data :\n",
      "----------------------------------------\n",
      "1 Air Force\n",
      "2 Alabama at Birmingham\n",
      "3 Arizona State\n",
      "4 Arkansas State\n",
      "5 Army\n",
      "6 Buffalo\n",
      "7 Connecticut\n",
      "8 Florida International\n",
      "9 Kansas State\n",
      "10 Liberty\n",
      "11 Louisiana-Lafayette\n",
      "12 Louisiana-Monroe\n",
      "13 LSU\n",
      "14 Massachusetts\n",
      "15 Miami (Ohio)\n",
      "16 Michigan State\n",
      "17 Mississippi\n",
      "18 Navy\n",
      "19 Nevada-Las Vegas\n",
      "20 North Carolina State\n",
      "21 Northern Illinois\n",
      "22 Oklahoma State\n",
      "23 Oregon State\n",
      "24 Southern California\n",
      "25 Texas\n",
      "26 Texas Christian\n",
      "27 Texas-El Paso\n",
      "28 Texas-San Antonio\n",
      "29 UCLA\n",
      "30 Virginia Tech\n",
      "31 Washington State\n",
      "32 Baylor\n",
      "33 Brigham Young\n",
      "34 Rice\n",
      "35 Southern Methodist\n"
     ]
    }
   ],
   "source": [
    "#Grabbing all the removed schools from the original dataframe\n",
    "remaining_school_list = merged_df['School'].tolist()\n",
    "removed_schools = coaches_df[~coaches_df.School.isin(remaining_school_list)]['School'].tolist()\n",
    "#including the 4 schools removed from the data cleaning initially\n",
    "removed_schools.append('Baylor')\n",
    "removed_schools.append('Brigham Young')\n",
    "removed_schools.append('Rice')\n",
    "removed_schools.append('Southern Methodist')\n",
    "\n",
    "print('Schools removed due to inconsistency in naming and/or missing data :')\n",
    "print('-'*40)\n",
    "counter = 0\n",
    "for x in removed_schools:\n",
    "    counter += 1\n",
    "    print(counter,x)\n",
    "    "
   ]
  },
  {
   "cell_type": "code",
   "execution_count": 36,
   "metadata": {},
   "outputs": [
    {
     "name": "stdout",
     "output_type": "stream",
     "text": [
      "                School Conference  TotalPay  Capacity  Opened  Win_Percentage  \\\n",
      "12               Akron        MAC    412500     30000    2009        0.166667   \n",
      "13             Alabama        SEC   8307000    101821    1929        0.866667   \n",
      "14   Appalachian State   Sun Belt    712500     24150    1962        0.714286   \n",
      "15             Arizona     Pac-12   2000000     56037    1928        0.083333   \n",
      "17            Arkansas        SEC   3500000     72000    1938        0.692308   \n",
      "..                 ...        ...       ...       ...     ...             ...   \n",
      "188      West Virginia     Big 12   3617500     60000    1980        0.461538   \n",
      "189   Western Kentucky      C-USA    805850     22113    1968        0.642857   \n",
      "190   Western Michigan        MAC    800000     30200    1939        0.615385   \n",
      "191          Wisconsin    Big Ten   3750000     80321    1917        0.692308   \n",
      "192            Wyoming   Mt. West   1412000     29181    1950        0.538462   \n",
      "\n",
      "     GSR   FGR  \n",
      "12    79  76.0  \n",
      "13    86  65.0  \n",
      "14    78  60.0  \n",
      "15    73  55.0  \n",
      "17    84  57.0  \n",
      "..   ...   ...  \n",
      "188   74  60.0  \n",
      "189   74  57.0  \n",
      "190   74  40.0  \n",
      "191   90  81.0  \n",
      "192   87  52.0  \n",
      "\n",
      "[94 rows x 8 columns]\n"
     ]
    }
   ],
   "source": [
    "#final step of removing the Wins and Losses since Win percentage has been calculated\n",
    "merged_df = merged_df.drop(columns = ['Win','Loss'])\n",
    "print(merged_df)"
   ]
  },
  {
   "cell_type": "markdown",
   "metadata": {},
   "source": [
    "## Data Visualization "
   ]
  },
  {
   "cell_type": "code",
   "execution_count": 37,
   "metadata": {},
   "outputs": [],
   "source": [
    "import plotly as py\n",
    "import plotly.graph_objs as go\n",
    "from plotly.offline import iplot, init_notebook_mode"
   ]
  },
  {
   "cell_type": "code",
   "execution_count": 38,
   "metadata": {},
   "outputs": [
    {
     "data": {
      "image/png": "[encoded data removed]",
      "text/plain": [
       "<Figure size 842.4x595.44 with 1 Axes>"
      ]
     },
     "metadata": {},
     "output_type": "display_data"
    }
   ],
   "source": [
    "sns.set(rc={'figure.figsize':(11.7,8.27)})\n",
    "sns.boxplot(x=\"Conference\", y=\"TotalPay\", data=merged_df, color = \"gray\").set(ylabel = 'TotalPay (in Millions)')\n",
    "plt.show()"
   ]
  },
  {
   "cell_type": "markdown",
   "metadata": {},
   "source": [
    "The Power 5 variable is created to provide a clearer picture here and also to provide a better predictor variable since  there aren't that many obervations for running the model in the other conferences."
   ]
  },
  {
   "cell_type": "code",
   "execution_count": 39,
   "metadata": {},
   "outputs": [
    {
     "name": "stdout",
     "output_type": "stream",
     "text": [
      "                School Conference  TotalPay  Capacity  Opened  Win_Percentage  \\\n",
      "12               Akron        MAC    412500     30000    2009        0.166667   \n",
      "13             Alabama        SEC   8307000    101821    1929        0.866667   \n",
      "14   Appalachian State   Sun Belt    712500     24150    1962        0.714286   \n",
      "15             Arizona     Pac-12   2000000     56037    1928        0.083333   \n",
      "17            Arkansas        SEC   3500000     72000    1938        0.692308   \n",
      "..                 ...        ...       ...       ...     ...             ...   \n",
      "188      West Virginia     Big 12   3617500     60000    1980        0.461538   \n",
      "189   Western Kentucky      C-USA    805850     22113    1968        0.642857   \n",
      "190   Western Michigan        MAC    800000     30200    1939        0.615385   \n",
      "191          Wisconsin    Big Ten   3750000     80321    1917        0.692308   \n",
      "192            Wyoming   Mt. West   1412000     29181    1950        0.538462   \n",
      "\n",
      "     GSR   FGR  power5  \n",
      "12    79  76.0       0  \n",
      "13    86  65.0       1  \n",
      "14    78  60.0       0  \n",
      "15    73  55.0       1  \n",
      "17    84  57.0       1  \n",
      "..   ...   ...     ...  \n",
      "188   74  60.0       1  \n",
      "189   74  57.0       0  \n",
      "190   74  40.0       0  \n",
      "191   90  81.0       1  \n",
      "192   87  52.0       0  \n",
      "\n",
      "[94 rows x 9 columns]\n"
     ]
    }
   ],
   "source": [
    "power5_list = ['SEC', 'Pac-12', 'ACC', 'Big Ten', 'Big 12']\n",
    "merged_df['power5'] = 0\n",
    "merged_df['power5'] = np.where((merged_df.Conference.isin(power5_list)),1,merged_df.power5)\n",
    "print(merged_df)\n"
   ]
  },
  {
   "cell_type": "code",
   "execution_count": 40,
   "metadata": {},
   "outputs": [
    {
     "data": {
      "image/png": "[encoded data removed]",
      "text/plain": [
       "<Figure size 842.4x595.44 with 1 Axes>"
      ]
     },
     "metadata": {},
     "output_type": "display_data"
    }
   ],
   "source": [
    "sns.set(rc={'figure.figsize':(11.7,8.27)})\n",
    "sns.boxplot(x=\"power5\", y=\"TotalPay\", data=merged_df, color = \"gray\").set(ylabel = 'TotalPay (in Millions)')\n",
    "plt.show()"
   ]
  },
  {
   "cell_type": "code",
   "execution_count": 41,
   "metadata": {},
   "outputs": [
    {
     "data": {
      "text/html": [
       "<div>\n",
       "<style scoped>\n",
       "    .dataframe tbody tr th:only-of-type {\n",
       "        vertical-align: middle;\n",
       "    }\n",
       "\n",
       "    .dataframe tbody tr th {\n",
       "        vertical-align: top;\n",
       "    }\n",
       "\n",
       "    .dataframe thead th {\n",
       "        text-align: right;\n",
       "    }\n",
       "</style>\n",
       "<table border=\"1\" class=\"dataframe\">\n",
       "  <thead>\n",
       "    <tr style=\"text-align: right;\">\n",
       "      <th></th>\n",
       "      <th>School</th>\n",
       "      <th>Conference</th>\n",
       "      <th>TotalPay</th>\n",
       "      <th>Capacity</th>\n",
       "      <th>Opened</th>\n",
       "      <th>Win_Percentage</th>\n",
       "      <th>GSR</th>\n",
       "      <th>FGR</th>\n",
       "      <th>power5</th>\n",
       "    </tr>\n",
       "  </thead>\n",
       "  <tbody>\n",
       "    <tr>\n",
       "      <th>13</th>\n",
       "      <td>Alabama</td>\n",
       "      <td>SEC</td>\n",
       "      <td>8307000</td>\n",
       "      <td>101821</td>\n",
       "      <td>1929</td>\n",
       "      <td>0.866667</td>\n",
       "      <td>86</td>\n",
       "      <td>65.0</td>\n",
       "      <td>1</td>\n",
       "    </tr>\n",
       "  </tbody>\n",
       "</table>\n",
       "</div>"
      ],
      "text/plain": [
       "     School Conference  TotalPay  Capacity  Opened  Win_Percentage  GSR   FGR  \\\n",
       "13  Alabama        SEC   8307000    101821    1929        0.866667   86  65.0   \n",
       "\n",
       "    power5  \n",
       "13       1  "
      ]
     },
     "execution_count": 41,
     "metadata": {},
     "output_type": "execute_result"
    }
   ],
   "source": [
    "#finding out what the outlier is\n",
    "merged_df[merged_df['TotalPay'] > 8000000]"
   ]
  },
  {
   "cell_type": "code",
   "execution_count": 42,
   "metadata": {},
   "outputs": [],
   "source": [
    "#capturing all the outlier schools\n",
    "outlier_school = []"
   ]
  },
  {
   "cell_type": "code",
   "execution_count": 43,
   "metadata": {},
   "outputs": [],
   "source": [
    "outlier_school.append(merged_df.loc[13,'School'])"
   ]
  },
  {
   "cell_type": "code",
   "execution_count": 44,
   "metadata": {},
   "outputs": [],
   "source": [
    "#removing those outliers\n",
    "merged_df = merged_df[~merged_df.School.isin(outlier_school)]"
   ]
  },
  {
   "cell_type": "code",
   "execution_count": 45,
   "metadata": {},
   "outputs": [
    {
     "data": {
      "image/png": "[encoded data removed]",
      "text/plain": [
       "<Figure size 842.4x595.44 with 1 Axes>"
      ]
     },
     "metadata": {},
     "output_type": "display_data"
    }
   ],
   "source": [
    "sns.set(rc={'figure.figsize':(11.7,8.27)})\n",
    "sns.boxplot(x=\"power5\", y=\"TotalPay\", data=merged_df, color = \"teal\").set(ylabel = 'TotalPay (in Millions)')\n",
    "plt.show()"
   ]
  },
  {
   "cell_type": "code",
   "execution_count": 46,
   "metadata": {},
   "outputs": [
    {
     "data": {
      "image/png": "[encoded data removed]",
      "text/plain": [
       "<Figure size 842.4x595.44 with 1 Axes>"
      ]
     },
     "metadata": {},
     "output_type": "display_data"
    }
   ],
   "source": [
    "sns.set(rc={'figure.figsize':(11.7,8.27)})\n",
    "sns.scatterplot(data = merged_df, x='Capacity', y='TotalPay', hue = 'power5', s = 200).set(ylabel = 'TotalPay (in Millions)')\n",
    "#plt.legend(markerscale = 2)\n",
    "plt.show()"
   ]
  },
  {
   "cell_type": "code",
   "execution_count": 47,
   "metadata": {},
   "outputs": [
    {
     "data": {
      "image/png": "[encoded data removed]",
      "text/plain": [
       "<Figure size 842.4x595.44 with 1 Axes>"
      ]
     },
     "metadata": {},
     "output_type": "display_data"
    }
   ],
   "source": [
    "sns.set(rc={'figure.figsize':(11.7,8.27)})\n",
    "sns.scatterplot(data = merged_df, x='Win_Percentage', y='TotalPay', hue = 'power5', s = 200,\n",
    "               palette = ['green', 'brown']).set(ylabel = 'TotalPay (in Millions)')\n",
    "#plt.legend(markerscale = 2)\n",
    "plt.show()"
   ]
  },
  {
   "cell_type": "code",
   "execution_count": 48,
   "metadata": {},
   "outputs": [
    {
     "data": {
      "image/png": "[encoded data removed]",
      "text/plain": [
       "<Figure size 842.4x595.44 with 1 Axes>"
      ]
     },
     "metadata": {},
     "output_type": "display_data"
    }
   ],
   "source": [
    "sns.set(rc={'figure.figsize':(11.7,8.27)})\n",
    "sns.scatterplot(data = merged_df, x='FGR', y='GSR', s = 200,\n",
    "               palette = ['green', 'brown'])\n",
    "#plt.legend(markerscale = 2)\n",
    "plt.show()"
   ]
  },
  {
   "cell_type": "markdown",
   "metadata": {},
   "source": [
    "## Linear Regression Modeling"
   ]
  },
  {
   "cell_type": "code",
   "execution_count": 49,
   "metadata": {},
   "outputs": [
    {
     "name": "stdout",
     "output_type": "stream",
     "text": [
      "Model 1\n",
      "------------------------------------------------------------------------------\n",
      "                            OLS Regression Results                            \n",
      "==============================================================================\n",
      "Dep. Variable:               TotalPay   R-squared:                       0.823\n",
      "Model:                            OLS   Adj. R-squared:                  0.809\n",
      "Method:                 Least Squares   F-statistic:                     57.62\n",
      "Date:                Sun, 30 Jan 2022   Prob (F-statistic):           5.14e-22\n",
      "Time:                        17:51:45   Log-Likelihood:                -1024.3\n",
      "No. Observations:                  68   AIC:                             2061.\n",
      "Df Residuals:                      62   BIC:                             2074.\n",
      "Df Model:                           5                                         \n",
      "Covariance Type:            nonrobust                                         \n",
      "==============================================================================\n",
      "                 coef    std err          t      P>|t|      [0.025      0.975]\n",
      "------------------------------------------------------------------------------\n",
      "Intercept  -1.929e+06   8.51e+06     -0.227      0.821   -1.89e+07    1.51e+07\n",
      "power5       1.27e+06   3.36e+05      3.783      0.000    5.99e+05    1.94e+06\n",
      "Capacity      51.4063      6.890      7.461      0.000      37.633      65.180\n",
      "Opened        11.1539   4279.253      0.003      0.998   -8542.951    8565.259\n",
      "FGR        -8503.8746    1.3e+04     -0.656      0.514   -3.44e+04    1.74e+04\n",
      "GSR         2.042e+04   1.73e+04      1.184      0.241   -1.41e+04    5.49e+04\n",
      "==============================================================================\n",
      "Omnibus:                        1.221   Durbin-Watson:                   2.045\n",
      "Prob(Omnibus):                  0.543   Jarque-Bera (JB):                0.643\n",
      "Skew:                          -0.188   Prob(JB):                        0.725\n",
      "Kurtosis:                       3.292   Cond. No.                     4.55e+06\n",
      "==============================================================================\n",
      "\n",
      "Notes:\n",
      "[1] Standard Errors assume that the covariance matrix of the errors is correctly specified.\n",
      "[2] The condition number is large, 4.55e+06. This might indicate that there are\n",
      "strong multicollinearity or other numerical problems.\n"
     ]
    },
    {
     "name": "stderr",
     "output_type": "stream",
     "text": [
      "<ipython-input-49-357a3c77d65b>:19: SettingWithCopyWarning:\n",
      "\n",
      "\n",
      "A value is trying to be set on a copy of a slice from a DataFrame.\n",
      "Try using .loc[row_indexer,col_indexer] = value instead\n",
      "\n",
      "See the caveats in the documentation: https://pandas.pydata.org/pandas-docs/stable/user_guide/indexing.html#returning-a-view-versus-a-copy\n",
      "\n",
      "<ipython-input-49-357a3c77d65b>:22: SettingWithCopyWarning:\n",
      "\n",
      "\n",
      "A value is trying to be set on a copy of a slice from a DataFrame.\n",
      "Try using .loc[row_indexer,col_indexer] = value instead\n",
      "\n",
      "See the caveats in the documentation: https://pandas.pydata.org/pandas-docs/stable/user_guide/indexing.html#returning-a-view-versus-a-copy\n",
      "\n"
     ]
    }
   ],
   "source": [
    "#obtained  code from class async work\n",
    "# employ training-and-test regimen for model validation\n",
    "print('Model 1')\n",
    "print('-' * 78)\n",
    "merged_df1 = merged_df\n",
    "np.random.seed(123)\n",
    "merged_df1['runiform'] = uniform.rvs(loc = 0, scale = 1, size = len(merged_df))\n",
    "merged_df1_train = merged_df1[merged_df1['runiform'] >= 0.33]\n",
    "merged_df1_test = merged_df1[merged_df1['runiform'] < 0.33]\n",
    "\n",
    "# specify a simple model with all the models\n",
    "my_model1 = str('TotalPay ~ power5 + Capacity + Opened + FGR + GSR')\n",
    "\n",
    "# fit the model to the training set\n",
    "train_model_fit1 = smf.ols(my_model1, data = merged_df1_train).fit()\n",
    "# summary of model fit to the training set\n",
    "print(train_model_fit1.summary())\n",
    "# training set predictions from the model fit to the training set\n",
    "merged_df1_train['predict_pay'] = train_model_fit1.fittedvalues\n",
    "\n",
    "# test set predictions from the model fit to the training set\n",
    "merged_df1_test['predict_pay'] = train_model_fit1.predict(merged_df1_test)"
   ]
  },
  {
   "cell_type": "code",
   "execution_count": 50,
   "metadata": {},
   "outputs": [
    {
     "name": "stdout",
     "output_type": "stream",
     "text": [
      "Model 2\n",
      "------------------------------------------------------------------------------\n",
      "                            OLS Regression Results                            \n",
      "==============================================================================\n",
      "Dep. Variable:               TotalPay   R-squared:                       0.819\n",
      "Model:                            OLS   Adj. R-squared:                  0.813\n",
      "Method:                 Least Squares   F-statistic:                     146.9\n",
      "Date:                Sun, 30 Jan 2022   Prob (F-statistic):           7.69e-25\n",
      "Time:                        17:51:45   Log-Likelihood:                -1025.1\n",
      "No. Observations:                  68   AIC:                             2056.\n",
      "Df Residuals:                      65   BIC:                             2063.\n",
      "Df Model:                           2                                         \n",
      "Covariance Type:            nonrobust                                         \n",
      "==============================================================================\n",
      "                 coef    std err          t      P>|t|      [0.025      0.975]\n",
      "------------------------------------------------------------------------------\n",
      "Intercept  -8.602e+05   2.59e+05     -3.318      0.001   -1.38e+06   -3.42e+05\n",
      "power5      1.383e+06   3.03e+05      4.568      0.000    7.78e+05    1.99e+06\n",
      "Capacity      51.7322      6.234      8.298      0.000      39.281      64.183\n",
      "==============================================================================\n",
      "Omnibus:                        1.111   Durbin-Watson:                   2.052\n",
      "Prob(Omnibus):                  0.574   Jarque-Bera (JB):                0.636\n",
      "Skew:                          -0.219   Prob(JB):                        0.728\n",
      "Kurtosis:                       3.181   Cond. No.                     1.74e+05\n",
      "==============================================================================\n",
      "\n",
      "Notes:\n",
      "[1] Standard Errors assume that the covariance matrix of the errors is correctly specified.\n",
      "[2] The condition number is large, 1.74e+05. This might indicate that there are\n",
      "strong multicollinearity or other numerical problems.\n"
     ]
    },
    {
     "name": "stderr",
     "output_type": "stream",
     "text": [
      "<ipython-input-50-bce2d03300cb>:19: SettingWithCopyWarning:\n",
      "\n",
      "\n",
      "A value is trying to be set on a copy of a slice from a DataFrame.\n",
      "Try using .loc[row_indexer,col_indexer] = value instead\n",
      "\n",
      "See the caveats in the documentation: https://pandas.pydata.org/pandas-docs/stable/user_guide/indexing.html#returning-a-view-versus-a-copy\n",
      "\n",
      "<ipython-input-50-bce2d03300cb>:22: SettingWithCopyWarning:\n",
      "\n",
      "\n",
      "A value is trying to be set on a copy of a slice from a DataFrame.\n",
      "Try using .loc[row_indexer,col_indexer] = value instead\n",
      "\n",
      "See the caveats in the documentation: https://pandas.pydata.org/pandas-docs/stable/user_guide/indexing.html#returning-a-view-versus-a-copy\n",
      "\n"
     ]
    }
   ],
   "source": [
    "#obtained  code from class async work\n",
    "# employ training-and-test regimen for model validation\n",
    "print('Model 2')\n",
    "print('-' * 78)\n",
    "merged_df2 = merged_df\n",
    "np.random.seed(123)\n",
    "merged_df2['runiform'] = uniform.rvs(loc = 0, scale = 1, size = len(merged_df))\n",
    "merged_df2_train = merged_df2[merged_df2['runiform'] >= 0.33]\n",
    "merged_df2_test = merged_df2[merged_df2['runiform'] < 0.33]\n",
    "\n",
    "# specify a simple model with all the models\n",
    "my_model2 = str('TotalPay ~ power5 + Capacity')\n",
    "\n",
    "# fit the model to the training set\n",
    "train_model_fit2 = smf.ols(my_model2, data = merged_df2_train).fit()\n",
    "# summary of model fit to the training set\n",
    "print(train_model_fit2.summary())\n",
    "# training set predictions from the model fit to the training set\n",
    "merged_df2_train['predict_pay'] = train_model_fit2.fittedvalues\n",
    "\n",
    "# test set predictions from the model fit to the training set\n",
    "merged_df2_test['predict_pay'] = train_model_fit2.predict(merged_df2_test)"
   ]
  },
  {
   "cell_type": "code",
   "execution_count": 51,
   "metadata": {},
   "outputs": [
    {
     "name": "stdout",
     "output_type": "stream",
     "text": [
      "Model 3\n",
      "------------------------------------------------------------------------------\n",
      "                            OLS Regression Results                            \n",
      "==============================================================================\n",
      "Dep. Variable:               TotalPay   R-squared:                       0.827\n",
      "Model:                            OLS   Adj. R-squared:                  0.794\n",
      "Method:                 Least Squares   F-statistic:                     24.41\n",
      "Date:                Sun, 30 Jan 2022   Prob (F-statistic):           1.80e-17\n",
      "Time:                        17:51:45   Log-Likelihood:                -1023.5\n",
      "No. Observations:                  68   AIC:                             2071.\n",
      "Df Residuals:                      56   BIC:                             2098.\n",
      "Df Model:                          11                                         \n",
      "Covariance Type:            nonrobust                                         \n",
      "==========================================================================================\n",
      "                             coef    std err          t      P>|t|      [0.025      0.975]\n",
      "------------------------------------------------------------------------------------------\n",
      "Intercept              -8.617e+05   6.32e+05     -1.364      0.178   -2.13e+06    4.04e+05\n",
      "Conference[T.ACC]       1.251e+06   6.08e+05      2.057      0.044    3.24e+04    2.47e+06\n",
      "Conference[T.Big 12]    1.186e+06   8.68e+05      1.367      0.177   -5.52e+05    2.92e+06\n",
      "Conference[T.Big Ten]   1.452e+06   6.65e+05      2.184      0.033     1.2e+05    2.78e+06\n",
      "Conference[T.C-USA]     1.998e+05   6.33e+05      0.315      0.754   -1.07e+06    1.47e+06\n",
      "Conference[T.Ind.]     -7.123e+05   8.41e+05     -0.847      0.401    -2.4e+06    9.73e+05\n",
      "Conference[T.MAC]      -3.683e+04   6.35e+05     -0.058      0.954   -1.31e+06    1.23e+06\n",
      "Conference[T.Mt. West]  -2.44e+05   6.33e+05     -0.386      0.701   -1.51e+06    1.02e+06\n",
      "Conference[T.Pac-12]    1.093e+06   7.04e+05      1.552      0.126   -3.17e+05     2.5e+06\n",
      "Conference[T.SEC]       1.364e+06   6.57e+05      2.076      0.042    4.78e+04    2.68e+06\n",
      "Conference[T.Sun Belt]  1.917e+05   7.16e+05      0.268      0.790   -1.24e+06    1.63e+06\n",
      "Capacity                  52.7691      7.894      6.685      0.000      36.956      68.582\n",
      "==============================================================================\n",
      "Omnibus:                        0.677   Durbin-Watson:                   2.031\n",
      "Prob(Omnibus):                  0.713   Jarque-Bera (JB):                0.355\n",
      "Skew:                          -0.171   Prob(JB):                        0.838\n",
      "Kurtosis:                       3.089   Cond. No.                     9.29e+05\n",
      "==============================================================================\n",
      "\n",
      "Notes:\n",
      "[1] Standard Errors assume that the covariance matrix of the errors is correctly specified.\n",
      "[2] The condition number is large, 9.29e+05. This might indicate that there are\n",
      "strong multicollinearity or other numerical problems.\n"
     ]
    },
    {
     "name": "stderr",
     "output_type": "stream",
     "text": [
      "<ipython-input-51-03b46ccaa945>:19: SettingWithCopyWarning:\n",
      "\n",
      "\n",
      "A value is trying to be set on a copy of a slice from a DataFrame.\n",
      "Try using .loc[row_indexer,col_indexer] = value instead\n",
      "\n",
      "See the caveats in the documentation: https://pandas.pydata.org/pandas-docs/stable/user_guide/indexing.html#returning-a-view-versus-a-copy\n",
      "\n",
      "<ipython-input-51-03b46ccaa945>:22: SettingWithCopyWarning:\n",
      "\n",
      "\n",
      "A value is trying to be set on a copy of a slice from a DataFrame.\n",
      "Try using .loc[row_indexer,col_indexer] = value instead\n",
      "\n",
      "See the caveats in the documentation: https://pandas.pydata.org/pandas-docs/stable/user_guide/indexing.html#returning-a-view-versus-a-copy\n",
      "\n"
     ]
    }
   ],
   "source": [
    "#obtained  code from class async work\n",
    "# employ training-and-test regimen for model validation\n",
    "print('Model 3')\n",
    "print('-' * 78)\n",
    "merged_df3 = merged_df\n",
    "np.random.seed(123)\n",
    "merged_df3['runiform'] = uniform.rvs(loc = 0, scale = 1, size = len(merged_df))\n",
    "merged_df3_train = merged_df3[merged_df3['runiform'] >= 0.33]\n",
    "merged_df3_test = merged_df3[merged_df3['runiform'] < 0.33]\n",
    "\n",
    "# specify a simple model with all the models\n",
    "my_model3 = str('TotalPay ~ Conference + Capacity')\n",
    "\n",
    "# fit the model to the training set\n",
    "train_model_fit3 = smf.ols(my_model3, data = merged_df3_train).fit()\n",
    "# summary of model fit to the training set\n",
    "print(train_model_fit3.summary())\n",
    "# training set predictions from the model fit to the training set\n",
    "merged_df3_train['predict_pay'] = train_model_fit3.fittedvalues\n",
    "\n",
    "# test set predictions from the model fit to the training set\n",
    "merged_df3_test['predict_pay'] = train_model_fit3.predict(merged_df3_test)"
   ]
  },
  {
   "cell_type": "markdown",
   "metadata": {},
   "source": [
    "Going create some additional models that's some variation of the Model 3 for obtaining a salary range for a Syracuse University Coach because those variables seem to be signficiant"
   ]
  },
  {
   "cell_type": "markdown",
   "metadata": {},
   "source": [
    "## TotalPay Prediction"
   ]
  },
  {
   "cell_type": "markdown",
   "metadata": {},
   "source": [
    "Going to test some additional models out for obtaining a salary range for a Syracuse University Coach "
   ]
  },
  {
   "cell_type": "code",
   "execution_count": 52,
   "metadata": {},
   "outputs": [
    {
     "name": "stdout",
     "output_type": "stream",
     "text": [
      "     School  power5 Conference  Capacity\n",
      "0  Syracuse       0        AAC     49520\n",
      "1  Syracuse       1        ACC     49520\n",
      "2  Syracuse       1    Big Ten     49520\n"
     ]
    }
   ],
   "source": [
    "syr_coach = pd.DataFrame({\n",
    "    'School':['Syracuse','Syracuse','Syracuse'],\n",
    "    'power5':[0,1,1],\n",
    "    'Conference': ['AAC','ACC','Big Ten'],\n",
    "    'Capacity': [49520,49520,49520]\n",
    "})\n",
    "print(syr_coach)"
   ]
  },
  {
   "cell_type": "code",
   "execution_count": 53,
   "metadata": {},
   "outputs": [
    {
     "name": "stdout",
     "output_type": "stream",
     "text": [
      "     School  power5 Conference  Capacity  predicted_pay1\n",
      "0  Syracuse       0        AAC     49520    1.701585e+06\n",
      "1  Syracuse       1        ACC     49520    3.084650e+06\n",
      "2  Syracuse       1    Big Ten     49520    3.084650e+06\n"
     ]
    }
   ],
   "source": [
    "#obtaining a range for coaches\n",
    "syr_coach['predicted_pay1'] = train_model_fit2.predict(syr_coach)\n",
    "print(syr_coach)"
   ]
  },
  {
   "cell_type": "code",
   "execution_count": 54,
   "metadata": {},
   "outputs": [
    {
     "name": "stdout",
     "output_type": "stream",
     "text": [
      "     School  power5 Conference  Capacity  predicted_pay1  predicted_pay2\n",
      "0  Syracuse       0        AAC     49520    1.701585e+06    1.751476e+06\n",
      "1  Syracuse       1        ACC     49520    3.084650e+06    3.002165e+06\n",
      "2  Syracuse       1    Big Ten     49520    3.084650e+06    3.203270e+06\n"
     ]
    }
   ],
   "source": [
    "syr_coach['predicted_pay2'] = train_model_fit3.predict(syr_coach)\n",
    "print(syr_coach)"
   ]
  },
  {
   "cell_type": "markdown",
   "metadata": {},
   "source": [
    "## Questions"
   ]
  },
  {
   "cell_type": "markdown",
   "metadata": {},
   "source": [
    "<b>What is the recommended salary for the Syracuse football coach? </b>\n",
    "\n",
    "The recommended salary range would be <b>3,002,165 to 3,084,650</b>\n",
    "\n",
    "______________________________________________________________"
   ]
  },
  {
   "cell_type": "markdown",
   "metadata": {},
   "source": [
    "<b>What would his salary be if we were still in the Big East? What if we went to the Big Ten? </b>\n",
    "\n",
    "Big East (aka AAC): <b>1,701,585 to 1,751,476</b>\n",
    "\n",
    "Big Ten: <b>3,084,650 to 3,203,270</b>\n",
    "\n",
    "______________________________________________________________\n"
   ]
  },
  {
   "cell_type": "markdown",
   "metadata": {},
   "source": [
    "<b>What schools did we drop from our data and why?</b> "
   ]
  },
  {
   "cell_type": "code",
   "execution_count": 55,
   "metadata": {
    "scrolled": true
   },
   "outputs": [
    {
     "name": "stdout",
     "output_type": "stream",
     "text": [
      "Schools removed due to inconsistency in naming when joining, contained missing data, or outlier:\n",
      "----------------------------------------------------------------------------------------------------\n",
      "1 Air Force\n",
      "2 Alabama\n",
      "3 Alabama at Birmingham\n",
      "4 Arizona State\n",
      "5 Arkansas State\n",
      "6 Army\n",
      "7 Buffalo\n",
      "8 Connecticut\n",
      "9 Florida International\n",
      "10 Kansas State\n",
      "11 Liberty\n",
      "12 Louisiana-Lafayette\n",
      "13 Louisiana-Monroe\n",
      "14 LSU\n",
      "15 Massachusetts\n",
      "16 Miami (Ohio)\n",
      "17 Michigan State\n",
      "18 Mississippi\n",
      "19 Navy\n",
      "20 Nevada-Las Vegas\n",
      "21 North Carolina State\n",
      "22 Northern Illinois\n",
      "23 Oklahoma State\n",
      "24 Oregon State\n",
      "25 Southern California\n",
      "26 Texas\n",
      "27 Texas Christian\n",
      "28 Texas-El Paso\n",
      "29 Texas-San Antonio\n",
      "30 UCLA\n",
      "31 Virginia Tech\n",
      "32 Washington State\n",
      "33 Baylor\n",
      "34 Brigham Young\n",
      "35 Rice\n",
      "36 Southern Methodist\n"
     ]
    }
   ],
   "source": [
    "#Grabbing all the removed schools from the original dataframe\n",
    "remaining_school_list = merged_df['School'].tolist()\n",
    "removed_schools = coaches_df[~coaches_df.School.isin(remaining_school_list)]['School'].tolist()\n",
    "#including the 4 schools removed from the data cleaning initially\n",
    "removed_schools.append('Baylor')\n",
    "removed_schools.append('Brigham Young')\n",
    "removed_schools.append('Rice')\n",
    "removed_schools.append('Southern Methodist')\n",
    "\n",
    "print('Schools removed due to inconsistency in naming when joining, contained missing data, or outlier:')\n",
    "print('-'*100)\n",
    "counter = 0\n",
    "for x in removed_schools:\n",
    "    counter += 1\n",
    "    print(counter,x)\n",
    "    "
   ]
  },
  {
   "cell_type": "markdown",
   "metadata": {},
   "source": [
    "<b>What effect does graduation rate have on the projected salary?</b>\n",
    "\n",
    "It doesn’t have any effect. This is an insignificant variable that was removed since it only creates additional noise\n"
   ]
  },
  {
   "cell_type": "markdown",
   "metadata": {},
   "source": [
    "<b>How good is our model?</b> \n",
    "\n",
    "It does a pretty good job of accounting for most of the data points and predicting the recommended salary. The best model here <b>(Model 3)</b> has an R-squared of 0.827"
   ]
  },
  {
   "cell_type": "markdown",
   "metadata": {},
   "source": [
    "<b> What is the single biggest impact on salary size? </b>\n",
    "\n",
    "Based on the breakdown between the most significant models, the remaining variables are <b>Capacity</b> and <b>(Conference or power5)</b>. It is clear that which variable would alter the salary size greatly and that is <b>Conference</b> because it can be seen above that if Syracuse was in a different conference the Coach's salary would shift very significantly."
   ]
  },
  {
   "cell_type": "code",
   "execution_count": 56,
   "metadata": {},
   "outputs": [
    {
     "name": "stdout",
     "output_type": "stream",
     "text": [
      "End of Lab\n",
      "Thanks for Reading!\n"
     ]
    }
   ],
   "source": [
    "print('End of Lab')\n",
    "print('Thanks for Reading!')"
   ]
  }
 ],
 "metadata": {
  "kernelspec": {
   "display_name": "Python 3",
   "language": "python",
   "name": "python3"
  },
  "language_info": {
   "codemirror_mode": {
    "name": "ipython",
    "version": 3
   },
   "file_extension": ".py",
   "mimetype": "text/x-python",
   "name": "python",
   "nbconvert_exporter": "python",
   "pygments_lexer": "ipython3",
   "version": "3.8.5"
  }
 },
 "nbformat": 4,
 "nbformat_minor": 4
}
